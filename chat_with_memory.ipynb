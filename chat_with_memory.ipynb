{
 "cells": [
  {
   "cell_type": "code",
   "execution_count": null,
   "id": "ca9576ef",
   "metadata": {
    "vscode": {
     "languageId": "plaintext"
    }
   },
   "outputs": [],
   "source": [
    "from langchain_openai import ChatOpenAI\n",
    "from langchain.prompts import ChatPromptTemplate\n",
    "from langchain.chains import ConversationChain\n",
    "from langchain.memory import ConversationBufferMemory\n",
    "from langchain.schema.runnable import RunnablePassthrough, RunnableParallel\n",
    "import getpass\n",
    "import os\n",
    "from dotenv import load_dotenv\n",
    "load_dotenv()\n",
    "\n",
    "if not os.environ.get(\"OPENAI_API_KEY\"):\n",
    "    os.environ[\"OPENAI_API_KEY\"] = getpass.getpass(\"Enter your OpenAI API key: \")\n",
    "# Initialize OpenAI LLM\n",
    "llm = ChatOpenAI(model=\"gpt-4o-mini\", temperature=0.7, openai_api_key=os.environ[\"OPENAI_API_KEY\"])\n",
    "\n",
    "memory = ConversationBufferMemory(return_messages=True)\n",
    "\n",
    "conversation = ConversationChain(\n",
    "    llm=llm,\n",
    "    memory=memory\n",
    ")\n",
    "# prompt template\n",
    "prompt = ChatPromptTemplate.from_template(\"\"\"\n",
    "You are a helpful AI assistant. Here is the conversation history:\n",
    "{chat_history}\n",
    "User: {question}\n",
    "AI:\"\"\")\n",
    "\n",
    "# chain with memory\n",
    "chain = (\n",
    "    RunnableParallel({\"chat_history\": memory.load_memory_variables, \"question\": RunnablePassthrough()}) \n",
    "    | prompt\n",
    "    | llm\n",
    "    | RunnablePassthrough()\n",
    ")\n",
    "\n",
    "def chat(question):\n",
    "    response = chain.invoke({\"question\": question})\n",
    "    memory.save_context({\"question\": question}, {\"response\": response.content})\n",
    "    return response.content\n",
    "\n",
    "# Run the conversation\n",
    "print(\"AI:\", chat(\"What is LangChain?\"))\n",
    "print(\"AI:\", chat(\"How does it use memory?\"))\n",
    "print(\"AI:\", chat(\"Can you summarize what we talked about?\"))\n",
    "\n",
    "response = conversation.predict(input=\"What did I just ask?\")\n",
    "print(\"AI:\", response)"
   ]
  }
 ],
 "metadata": {
  "language_info": {
   "name": "python"
  }
 },
 "nbformat": 4,
 "nbformat_minor": 5
}
